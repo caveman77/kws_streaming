{
 "cells": [
  {
   "cell_type": "code",
   "execution_count": 43,
   "metadata": {},
   "outputs": [],
   "source": [
    "# https://medium.com/@niveditha.itengineer/learn-how-to-setup-portaudio-and-pyaudio-in-ubuntu-to-play-with-speech-recognition-8d2fff660e94\n",
    "\n",
    "import sounddevice as sd\n",
    "import numpy as np\n",
    "import scipy.signal\n",
    "from scipy.special import softmax\n",
    "import timeit\n",
    "import python_speech_features\n",
    "import os\n",
    "import json\n",
    "#import RPi.GPIO as GPIO\n",
    "from kws_streaming.data import input_data\n",
    "from kws_streaming import data\n",
    "from datetime import datetime\n",
    "\n",
    "\n",
    "#from tflite_runtime.interpreter import Interpreter\n",
    "import tensorflow as tf\n"
   ]
  },
  {
   "cell_type": "code",
   "execution_count": 44,
   "metadata": {},
   "outputs": [
    {
     "data": {
      "text/plain": [
       "'/mnt/disk0shared/bdjola/Documents/Technique/DevML/kws_streaming2/kws_streaming'"
      ]
     },
     "execution_count": 44,
     "metadata": {},
     "output_type": "execute_result"
    }
   ],
   "source": [
    "# Parameters\n",
    "#debug_time = 1\n",
    "#debug_acc = 0\n",
    "#led_pin = 8\n",
    "word_threshold = 0.9\n",
    "\n",
    "sample_rate = 16000\n",
    "\n",
    "num_channels = 1\n",
    "model_path = 'models3_30k/svdf/tflite_stream_state_external/stream_state_external.tflite'\n",
    "\n",
    "\n",
    "# GPIO \n",
    "#GPIO.setwarnings(False)\n",
    "#GPIO.setmode(GPIO.BOARD)\n",
    "#GPIO.setup(8, GPIO.OUT, initial=GPIO.LOW)\n",
    "\n",
    "current_dir = os.getcwd()\n",
    "DATA_PATH = os.path.join(current_dir, \"data2/\")\n",
    "MODELS_PATH = current_dir\n",
    "\n",
    "file_name='models3_30k'\n",
    "train_dir = os.path.join(MODELS_PATH, file_name, 'svdf')\n",
    "\n",
    "current_dir"
   ]
  },
  {
   "cell_type": "code",
   "execution_count": 45,
   "metadata": {},
   "outputs": [],
   "source": [
    "# below is another way of reading flags - through json\n",
    "with tf.compat.v1.gfile.Open(os.path.join(train_dir, 'flags.json'), 'r') as fd:\n",
    "   flags_json = json.load(fd)\n",
    "\n",
    "class DictStruct(object):\n",
    "   def __init__(self, **entries):\n",
    "     self.__dict__.update(entries)\n",
    "\n",
    "flags = DictStruct(**flags_json)"
   ]
  },
  {
   "cell_type": "code",
   "execution_count": 46,
   "metadata": {},
   "outputs": [
    {
     "name": "stderr",
     "output_type": "stream",
     "text": [
      "2024-02-26 21:15:44.536353: I tensorflow/compiler/jit/xla_gpu_device.cc:99] Not creating XLA devices, tf_xla_enable_xla_devices not set\n",
      "2024-02-26 21:15:44.536385: I tensorflow/core/common_runtime/gpu/gpu_device.cc:1261] Device interconnect StreamExecutor with strength 1 edge matrix:\n",
      "2024-02-26 21:15:44.536390: I tensorflow/core/common_runtime/gpu/gpu_device.cc:1267]      \n"
     ]
    },
    {
     "data": {
      "text/plain": [
       "{11: 'forward',\n",
       " 16: 'learn',\n",
       " 10: 'follow',\n",
       " 2: 'backward',\n",
       " 3: 'bed',\n",
       " 14: 'happy',\n",
       " 5: 'cat',\n",
       " 4: 'bird',\n",
       " 6: 'dog',\n",
       " 15: 'house',\n",
       " 33: 'visual',\n",
       " 12: 'four',\n",
       " 21: 'off',\n",
       " 8: 'eight',\n",
       " 17: 'left',\n",
       " 27: 'six',\n",
       " 22: 'on',\n",
       " 13: 'go',\n",
       " 28: 'stop',\n",
       " 34: 'wow',\n",
       " 23: 'one',\n",
       " 19: 'nine',\n",
       " 7: 'down',\n",
       " 20: 'no',\n",
       " 25: 'seven',\n",
       " 30: 'tree',\n",
       " 9: 'five',\n",
       " 26: 'sheila',\n",
       " 18: 'marvin',\n",
       " 35: 'yes',\n",
       " 36: 'zero',\n",
       " 32: 'up',\n",
       " 29: 'three',\n",
       " 31: 'two',\n",
       " 24: 'right',\n",
       " 0: '_silence_'}"
      ]
     },
     "execution_count": 46,
     "metadata": {},
     "output_type": "execute_result"
    }
   ],
   "source": [
    "# prepare mapping of index to word\n",
    "audio_processor = data.input_data.AudioProcessor(flags)\n",
    "index_to_label = {}\n",
    "# labels used for training\n",
    "for word in audio_processor.word_to_index.keys():\n",
    "  if audio_processor.word_to_index[word] == data.input_data.SILENCE_INDEX:\n",
    "    index_to_label[audio_processor.word_to_index[word]] = data.input_data.SILENCE_LABEL\n",
    "  elif audio_processor.word_to_index[word] == data.input_data.UNKNOWN_WORD_INDEX:\n",
    "    index_to_label[audio_processor.word_to_index[word]] = data.input_data.UNKNOWN_WORD_LABEL\n",
    "  else:\n",
    "    index_to_label[audio_processor.word_to_index[word]] = word\n",
    "\n",
    "# training labels\n",
    "index_to_label"
   ]
  },
  {
   "cell_type": "code",
   "execution_count": 47,
   "metadata": {},
   "outputs": [
    {
     "name": "stdout",
     "output_type": "stream",
     "text": [
      "[{'name': 'input_audio', 'index': 0, 'shape': array([  1, 320], dtype=int32), 'shape_signature': array([  1, 320], dtype=int32), 'dtype': <class 'numpy.float32'>, 'quantization': (0.0, 0), 'quantization_parameters': {'scales': array([], dtype=float32), 'zero_points': array([], dtype=int32), 'quantized_dimension': 0}, 'sparsity_parameters': {}}, {'name': 'streaming/speech_features/data_frame_1input_state', 'index': 1, 'shape': array([  1, 640], dtype=int32), 'shape_signature': array([  1, 640], dtype=int32), 'dtype': <class 'numpy.float32'>, 'quantization': (0.0, 0), 'quantization_parameters': {'scales': array([], dtype=float32), 'zero_points': array([], dtype=int32), 'quantized_dimension': 0}, 'sparsity_parameters': {}}, {'name': 'streaming/svdf_0/depthwise_conv1d_6/depthwise_conv1d_6input_state', 'index': 2, 'shape': array([ 1,  4, 16], dtype=int32), 'shape_signature': array([ 1,  4, 16], dtype=int32), 'dtype': <class 'numpy.float32'>, 'quantization': (0.0, 0), 'quantization_parameters': {'scales': array([], dtype=float32), 'zero_points': array([], dtype=int32), 'quantized_dimension': 0}, 'sparsity_parameters': {}}, {'name': 'streaming/svdf_1/depthwise_conv1d_7/depthwise_conv1d_7input_state', 'index': 3, 'shape': array([ 1, 10, 32], dtype=int32), 'shape_signature': array([ 1, 10, 32], dtype=int32), 'dtype': <class 'numpy.float32'>, 'quantization': (0.0, 0), 'quantization_parameters': {'scales': array([], dtype=float32), 'zero_points': array([], dtype=int32), 'quantized_dimension': 0}, 'sparsity_parameters': {}}, {'name': 'streaming/svdf_2/depthwise_conv1d_8/depthwise_conv1d_8input_state', 'index': 4, 'shape': array([ 1, 10, 32], dtype=int32), 'shape_signature': array([ 1, 10, 32], dtype=int32), 'dtype': <class 'numpy.float32'>, 'quantization': (0.0, 0), 'quantization_parameters': {'scales': array([], dtype=float32), 'zero_points': array([], dtype=int32), 'quantized_dimension': 0}, 'sparsity_parameters': {}}, {'name': 'streaming/svdf_3/depthwise_conv1d_9/depthwise_conv1d_9input_state', 'index': 5, 'shape': array([ 1, 10, 32], dtype=int32), 'shape_signature': array([ 1, 10, 32], dtype=int32), 'dtype': <class 'numpy.float32'>, 'quantization': (0.0, 0), 'quantization_parameters': {'scales': array([], dtype=float32), 'zero_points': array([], dtype=int32), 'quantized_dimension': 0}, 'sparsity_parameters': {}}, {'name': 'streaming/svdf_4/depthwise_conv1d_10/depthwise_conv1d_10input_state', 'index': 6, 'shape': array([ 1, 10, 64], dtype=int32), 'shape_signature': array([ 1, 10, 64], dtype=int32), 'dtype': <class 'numpy.float32'>, 'quantization': (0.0, 0), 'quantization_parameters': {'scales': array([], dtype=float32), 'zero_points': array([], dtype=int32), 'quantized_dimension': 0}, 'sparsity_parameters': {}}, {'name': 'streaming/svdf_5/depthwise_conv1d_11/depthwise_conv1d_11input_state', 'index': 7, 'shape': array([  1,  10, 128], dtype=int32), 'shape_signature': array([  1,  10, 128], dtype=int32), 'dtype': <class 'numpy.float32'>, 'quantization': (0.0, 0), 'quantization_parameters': {'scales': array([], dtype=float32), 'zero_points': array([], dtype=int32), 'quantized_dimension': 0}, 'sparsity_parameters': {}}, {'name': 'streaming/stream/stream/input_state', 'index': 8, 'shape': array([  1,   1, 128], dtype=int32), 'shape_signature': array([  1,   1, 128], dtype=int32), 'dtype': <class 'numpy.float32'>, 'quantization': (0.0, 0), 'quantization_parameters': {'scales': array([], dtype=float32), 'zero_points': array([], dtype=int32), 'quantized_dimension': 0}, 'sparsity_parameters': {}}]\n"
     ]
    }
   ],
   "source": [
    "# Load model (interpreter)\n",
    "#interpreter = Interpreter(model_path)\n",
    "interpreter = tf.lite.Interpreter(model_path)\n",
    "interpreter.allocate_tensors()\n",
    "input_details = interpreter.get_input_details()\n",
    "output_details = interpreter.get_output_details()\n",
    "print(input_details)"
   ]
  },
  {
   "cell_type": "code",
   "execution_count": 48,
   "metadata": {},
   "outputs": [
    {
     "data": {
      "text/plain": [
       "array([  1, 320], dtype=int32)"
      ]
     },
     "execution_count": 48,
     "metadata": {},
     "output_type": "execute_result"
    }
   ],
   "source": [
    "inputs = []\n",
    "for s in range(len(input_details)):\n",
    "  inputs.append(np.zeros(input_details[s]['shape'], dtype=np.float32))\n",
    "\n",
    "input_details[0]['shape']"
   ]
  },
  {
   "cell_type": "code",
   "execution_count": 49,
   "metadata": {},
   "outputs": [],
   "source": [
    "# Decimate (filter and downsample)\n",
    "def decimate(signal, old_fs, new_fs):\n",
    "    \n",
    "    # Check to make sure we're downsampling\n",
    "    if new_fs > old_fs:\n",
    "        print(\"Error: target sample rate higher than original\")\n",
    "        return signal, old_fs\n",
    "    \n",
    "    # We can only downsample by an integer factor\n",
    "    dec_factor = old_fs / new_fs\n",
    "    if not dec_factor.is_integer():\n",
    "        print(\"Error: can only decimate by integer factor\")\n",
    "        return signal, old_fs\n",
    "\n",
    "    # Do decimation\n",
    "    resampled_signal = scipy.signal.decimate(signal, int(dec_factor))\n",
    "\n",
    "    return resampled_signal, new_fs"
   ]
  },
  {
   "cell_type": "code",
   "execution_count": 50,
   "metadata": {},
   "outputs": [],
   "source": [
    "import time as timelib\n",
    "\n",
    "def sd_callback(rec, frames, time, status):   \n",
    "    \n",
    "    #global sumseconds, sumrecords\n",
    "    global index, times, MAX_RECORDS\n",
    "\n",
    "    if index<MAX_RECORDS-1:\n",
    "        index = index+1\n",
    "\n",
    "        #tstart = timelib.time()\n",
    "        times[0, index] = timelib.time()\n",
    "\n",
    "    # audio rec shape is : (frames, channels)\n",
    "    rec = np.reshape(rec, (1,-1))\n",
    "\n",
    "    # set input audio data (by default input data at index 0)\n",
    "    interpreter.set_tensor(input_details[0]['index'], rec)\n",
    "\n",
    "    # set input states (index 1...)\n",
    "    for s in range(1, len(input_details)):\n",
    "        interpreter.set_tensor(input_details[s]['index'], inputs[s])\n",
    "\n",
    "    # run inference\n",
    "    interpreter.invoke()\n",
    "\n",
    "    # get output: classification\n",
    "    out_tflite = interpreter.get_tensor(output_details[0]['index'])\n",
    "    #print(start / 16000.0, np.argmax(out_tflite), np.max(out_tflite))\n",
    "\n",
    "    # get output states and set it back to input states\n",
    "    # which will be fed in the next inference cycle\n",
    "    for s in range(1, len(input_details)):\n",
    "    # The function `get_tensor()` returns a copy of the tensor data.\n",
    "    # Use `tensor()` in order to get a pointer to the tensor.\n",
    "        inputs[s] = interpreter.get_tensor(output_details[s]['index'])\n",
    "\n",
    "    out_tflite_argmax = np.argmax(out_tflite)\n",
    "\n",
    "    probas = softmax(out_tflite)\n",
    "    proba = np.max(probas)\n",
    "    if (out_tflite_argmax>1) and (proba > word_threshold):\n",
    "        print(datetime.now().strftime(\"%d/%m/%Y %H:%M:%S\"), index_to_label[out_tflite_argmax], proba)\n",
    "\n",
    "    if index<MAX_RECORDS:\n",
    "        #tend = timelib.time()\n",
    "    \n",
    "        #sumrecords=sumrecords+1\n",
    "        #sumseconds=sumseconds+tend-tstart\n",
    "        times[1, index] = timelib.time()\n",
    "\n",
    "    \n"
   ]
  },
  {
   "cell_type": "code",
   "execution_count": 51,
   "metadata": {},
   "outputs": [
    {
     "name": "stdout",
     "output_type": "stream",
     "text": [
      "[  1 320]\n",
      "[  1 640]\n",
      "[ 1  4 16]\n",
      "[ 1 10 32]\n",
      "[ 1 10 32]\n",
      "[ 1 10 32]\n",
      "[ 1 10 64]\n",
      "[  1  10 128]\n",
      "[  1   1 128]\n"
     ]
    }
   ],
   "source": [
    "reset_state = True\n",
    "\n",
    "\n",
    "# before processing new test sequence we can reset model state\n",
    "# if we reset model state then it is not real streaming mode\n",
    "if reset_state:\n",
    "  for s in range(len(input_details)):\n",
    "    print(input_details[s]['shape'])\n",
    "    inputs[s] = np.zeros(input_details[s]['shape'], dtype=np.float32)"
   ]
  },
  {
   "cell_type": "code",
   "execution_count": 74,
   "metadata": {},
   "outputs": [
    {
     "name": "stdout",
     "output_type": "stream",
     "text": [
      "channels: 1 samplerate: 16000 blocksize: 320\n",
      "26/02/2024 21:51:56 one 0.95261276\n",
      "26/02/2024 21:51:56 one 0.9651029\n",
      "26/02/2024 21:51:56 one 0.9796104\n",
      "26/02/2024 21:51:56 one 0.98588514\n",
      "26/02/2024 21:51:56 one 0.9920784\n",
      "26/02/2024 21:51:56 one 0.9972886\n",
      "26/02/2024 21:51:56 one 0.99738747\n",
      "26/02/2024 21:51:56 one 0.9969472\n",
      "26/02/2024 21:51:56 one 0.9973066\n",
      "26/02/2024 21:51:56 one 0.995656\n",
      "26/02/2024 21:51:56 one 0.9965033\n",
      "26/02/2024 21:51:56 one 0.9985429\n",
      "26/02/2024 21:51:56 one 0.9980612\n",
      "26/02/2024 21:51:56 one 0.9985229\n",
      "26/02/2024 21:51:56 one 0.99891436\n",
      "26/02/2024 21:51:56 one 0.9991192\n",
      "26/02/2024 21:51:56 one 0.9987695\n",
      "26/02/2024 21:51:56 one 0.9971174\n",
      "26/02/2024 21:51:56 one 0.9951793\n",
      "26/02/2024 21:51:56 one 0.99373496\n",
      "26/02/2024 21:51:56 one 0.9968835\n",
      "26/02/2024 21:51:56 one 0.9955363\n",
      "26/02/2024 21:51:56 one 0.9943341\n",
      "26/02/2024 21:51:56 one 0.99073344\n",
      "26/02/2024 21:51:56 one 0.98347735\n",
      "26/02/2024 21:51:56 one 0.9637205\n",
      "26/02/2024 21:51:56 one 0.9249864\n",
      "26/02/2024 21:51:56 one 0.97845554\n",
      "26/02/2024 21:51:56 one 0.96575946\n",
      "26/02/2024 21:51:56 one 0.92275286\n",
      "26/02/2024 21:51:57 two 0.9665642\n",
      "26/02/2024 21:51:57 two 0.9781238\n",
      "26/02/2024 21:51:57 two 0.978785\n",
      "26/02/2024 21:51:57 two 0.9747235\n",
      "26/02/2024 21:51:57 two 0.9763931\n",
      "26/02/2024 21:51:57 two 0.98991555\n",
      "26/02/2024 21:51:57 two 0.9974322\n",
      "26/02/2024 21:51:57 two 0.9974873\n",
      "26/02/2024 21:51:57 two 0.99667627\n",
      "26/02/2024 21:51:57 two 0.99565494\n",
      "26/02/2024 21:51:57 two 0.99665916\n",
      "26/02/2024 21:51:57 two 0.998581\n",
      "26/02/2024 21:51:57 two 0.9950617\n",
      "26/02/2024 21:51:57 two 0.99557525\n",
      "26/02/2024 21:51:57 two 0.99798024\n",
      "26/02/2024 21:51:57 two 0.9981631\n",
      "26/02/2024 21:51:57 two 0.9984001\n",
      "26/02/2024 21:51:57 two 0.9989391\n",
      "26/02/2024 21:51:57 two 0.9987991\n",
      "26/02/2024 21:51:57 two 0.9986124\n",
      "26/02/2024 21:51:57 two 0.9983201\n",
      "26/02/2024 21:51:57 two 0.99757206\n",
      "26/02/2024 21:51:57 two 0.99808776\n",
      "26/02/2024 21:51:57 two 0.9979488\n",
      "26/02/2024 21:51:57 two 0.99781275\n",
      "26/02/2024 21:51:57 two 0.9954646\n",
      "26/02/2024 21:51:57 two 0.991761\n",
      "26/02/2024 21:51:57 two 0.9868564\n",
      "26/02/2024 21:51:57 two 0.980539\n",
      "26/02/2024 21:51:57 two 0.9067094\n",
      "26/02/2024 21:51:59 three 0.9187417\n",
      "26/02/2024 21:51:59 three 0.92613834\n",
      "26/02/2024 21:51:59 three 0.9569999\n",
      "26/02/2024 21:51:59 three 0.96990454\n",
      "26/02/2024 21:51:59 three 0.96616095\n",
      "26/02/2024 21:51:59 three 0.9649778\n",
      "26/02/2024 21:51:59 three 0.9595267\n",
      "26/02/2024 21:51:59 three 0.95347166\n",
      "26/02/2024 21:51:59 three 0.9205415\n",
      "26/02/2024 21:51:59 three 0.92086154\n",
      "26/02/2024 21:52:00 three 0.9055022\n",
      "26/02/2024 21:52:01 go 0.9448291\n",
      "26/02/2024 21:52:01 go 0.96232826\n",
      "26/02/2024 21:52:01 go 0.979009\n",
      "26/02/2024 21:52:01 go 0.9776272\n",
      "26/02/2024 21:52:01 go 0.94198245\n",
      "26/02/2024 21:52:03 zero 0.9103922\n",
      "26/02/2024 21:52:03 zero 0.9414333\n",
      "26/02/2024 21:52:03 zero 0.96584135\n",
      "26/02/2024 21:52:03 zero 0.9749262\n",
      "26/02/2024 21:52:03 zero 0.99571764\n",
      "26/02/2024 21:52:03 zero 0.9981468\n",
      "26/02/2024 21:52:03 zero 0.9986287\n",
      "26/02/2024 21:52:03 zero 0.9986067\n",
      "26/02/2024 21:52:03 zero 0.9985962\n",
      "26/02/2024 21:52:03 zero 0.99903244\n",
      "26/02/2024 21:52:03 zero 0.99966824\n",
      "26/02/2024 21:52:03 zero 0.9997835\n",
      "26/02/2024 21:52:03 zero 0.99968624\n",
      "26/02/2024 21:52:03 zero 0.9995728\n",
      "26/02/2024 21:52:03 zero 0.9995938\n",
      "26/02/2024 21:52:03 zero 0.9993508\n",
      "26/02/2024 21:52:03 zero 0.99975395\n",
      "26/02/2024 21:52:03 zero 0.99945754\n",
      "26/02/2024 21:52:03 zero 0.99970824\n",
      "26/02/2024 21:52:03 zero 0.9999161\n",
      "26/02/2024 21:52:03 zero 0.99992365\n",
      "26/02/2024 21:52:03 zero 0.99997336\n",
      "26/02/2024 21:52:03 zero 0.9999809\n",
      "26/02/2024 21:52:03 zero 0.9999962\n",
      "26/02/2024 21:52:03 zero 0.99999815\n",
      "26/02/2024 21:52:03 zero 1.0\n",
      "26/02/2024 21:52:03 zero 0.99999815\n",
      "26/02/2024 21:52:03 zero 0.99999815\n",
      "26/02/2024 21:52:03 zero 1.0\n",
      "26/02/2024 21:52:03 zero 1.0\n",
      "26/02/2024 21:52:03 zero 0.99999815\n",
      "26/02/2024 21:52:03 zero 0.9999962\n",
      "26/02/2024 21:52:03 zero 0.9999962\n",
      "26/02/2024 21:52:03 zero 0.99999136\n",
      "26/02/2024 21:52:03 zero 0.9999247\n",
      "26/02/2024 21:52:03 zero 0.999468\n",
      "26/02/2024 21:52:03 zero 0.99875426\n",
      "26/02/2024 21:52:03 zero 0.99471635\n",
      "26/02/2024 21:52:03 zero 0.9922288\n",
      "26/02/2024 21:52:03 zero 0.98887295\n"
     ]
    },
    {
     "data": {
      "image/png": "[encoded data removed]",
      "text/plain": [
       "<Figure size 640x480 with 1 Axes>"
      ]
     },
     "metadata": {},
     "output_type": "display_data"
    },
    {
     "name": "stdout",
     "output_type": "stream",
     "text": [
      "\n",
      "Recording finished. Nb records: 596 std deviation: 0.0012771305181433468 average: 0.005464879458382626 CPU {'python_version': '3.7.17.final.0 (64 bit)', 'cpuinfo_version': [9, 0, 0], 'cpuinfo_version_string': '9.0.0', 'arch': 'X86_64', 'bits': 64, 'count': 24, 'arch_string_raw': 'x86_64', 'vendor_id_raw': 'AuthenticAMD', 'brand_raw': 'AMD Ryzen 9 7900X 12-Core Processor', 'hz_advertised_friendly': '400.0000 MHz', 'hz_actual_friendly': '400.0000 MHz', 'hz_advertised': [400000000, 0], 'hz_actual': [400000000, 0], 'stepping': 2, 'model': 97, 'family': 25, 'flags': ['3dnowprefetch', 'abm', 'adx', 'aes', 'amd_lbr_v2', 'aperfmperf', 'apic', 'arat', 'avic', 'avx', 'avx2', 'avx512_bf16', 'avx512_bitalg', 'avx512_vbmi2', 'avx512_vnni', 'avx512_vpopcntdq', 'avx512bitalg', 'avx512bw', 'avx512cd', 'avx512dq', 'avx512f', 'avx512ifma', 'avx512vbmi', 'avx512vbmi2', 'avx512vl', 'avx512vnni', 'avx512vpopcntdq', 'bmi1', 'bmi2', 'bpext', 'cat_l3', 'cdp_l3', 'clflush', 'clflushopt', 'clwb', 'clzero', 'cmov', 'cmp_legacy', 'constant_tsc', 'cpb', 'cppc', 'cpuid', 'cqm', 'cqm_llc', 'cqm_mbm_local', 'cqm_mbm_total', 'cqm_occup_llc', 'cr8_legacy', 'cx16', 'cx8', 'dbx', 'de', 'decodeassists', 'erms', 'extapic', 'extd_apicid', 'f16c', 'flush_l1d', 'flushbyasid', 'fma', 'fpu', 'fsgsbase', 'fsrm', 'fxsr', 'fxsr_opt', 'gfni', 'ht', 'hw_pstate', 'ibpb', 'ibrs', 'ibrs_enhanced', 'ibs', 'invpcid', 'irperf', 'lahf_lm', 'lbrv', 'lm', 'mba', 'mca', 'mce', 'misalignsse', 'mmx', 'mmxext', 'monitor', 'movbe', 'msr', 'mtrr', 'mwaitx', 'nonstop_tsc', 'nopl', 'npt', 'nrip_save', 'nx', 'ospke', 'osvw', 'osxsave', 'overflow_recov', 'pae', 'pat', 'pausefilter', 'pci_l2i', 'pclmulqdq', 'pdpe1gb', 'perfctr_core', 'perfctr_llc', 'perfctr_nb', 'perfmon_v2', 'pfthreshold', 'pge', 'pku', 'pni', 'popcnt', 'pqe', 'pqm', 'pse', 'pse36', 'rapl', 'rdpid', 'rdpru', 'rdrand', 'rdrnd', 'rdseed', 'rdt_a', 'rdtscp', 'rep_good', 'sep', 'sha', 'sha_ni', 'skinit', 'smap', 'smca', 'smep', 'ssbd', 'sse', 'sse2', 'sse4_1', 'sse4_2', 'sse4a', 'ssse3', 'stibp', 'succor', 'svm', 'svm_lock', 'syscall', 'tce', 'topoext', 'tsc', 'tsc_scale', 'umip', 'v_spec_ctrl', 'v_vmsave_vmload', 'vaes', 'vgif', 'vmcb_clean', 'vme', 'vmmcall', 'vnmi', 'vpclmulqdq', 'wbnoinvd', 'wdt', 'x2avic', 'xgetbv1', 'xsave', 'xsavec', 'xsaveerptr', 'xsaveopt', 'xsaves'], 'l3_cache_size': 1048576, 'l2_cache_size': 12582912, 'l1_data_cache_size': 393216, 'l1_instruction_cache_size': 393216, 'l2_cache_line_size': 1024, 'l2_cache_associativity': 6}\n"
     ]
    }
   ],
   "source": [
    "# Start streaming from microphone\n",
    "import matplotlib.pyplot as plt\n",
    "import cpuinfo\n",
    "\n",
    "\n",
    "sumseconds=0\n",
    "sumrecords=0\n",
    "MAX_RECORDS = 5000\n",
    "index=-1\n",
    "times = np.empty([2, MAX_RECORDS], dtype = float)\n",
    "\n",
    "try:\n",
    "    sumrecords=0\n",
    "    print('channels:',num_channels, 'samplerate:',sample_rate, 'blocksize:', flags.window_stride_samples)\n",
    "    with sd.InputStream(channels=num_channels,\n",
    "                        samplerate=sample_rate,\n",
    "                        blocksize=flags.window_stride_samples,\n",
    "                        callback=sd_callback):\n",
    "        while True:\n",
    "            pass\n",
    "\n",
    "except KeyboardInterrupt:\n",
    "    times[0,:] = times[0,:] * -1\n",
    "    delays = np.sum(times[:,0:index], axis=0)\n",
    "\n",
    "\n",
    "    weights = np.ones_like(delays)/float(index)\n",
    "\n",
    "    my_cpuinfo = cpuinfo.get_cpu_info()\n",
    "\n",
    "    x, bins, p = plt.hist(delays, bins = 30, weights=weights)\n",
    "    plt.ylabel('Probability')\n",
    "    plt.xlabel('Delay(s)')\n",
    "    plt.title(f'Model delay ')\n",
    "    plt.show() \n",
    "    \n",
    "    print('\\nRecording finished. Nb records:', index, 'std deviation:', np.std(delays, axis=0), 'average:', np.mean(delays, axis=0), 'CPU', my_cpuinfo.get_cpu_info())\n",
    "   \n",
    "\n",
    "\n",
    "except Exception as e:\n",
    "    print('\\nRecording finished. ')"
   ]
  }
 ],
 "metadata": {
  "kernelspec": {
   "display_name": ".venv",
   "language": "python",
   "name": "python3"
  },
  "language_info": {
   "codemirror_mode": {
    "name": "ipython",
    "version": 3
   },
   "file_extension": ".py",
   "mimetype": "text/x-python",
   "name": "python",
   "nbconvert_exporter": "python",
   "pygments_lexer": "ipython3",
   "version": "3.7.17"
  }
 },
 "nbformat": 4,
 "nbformat_minor": 2
}
