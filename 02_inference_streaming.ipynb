{
 "cells": [
  {
   "cell_type": "code",
   "execution_count": 1,
   "metadata": {},
   "outputs": [
    {
     "name": "stderr",
     "output_type": "stream",
     "text": [
      "2024-02-26 21:59:09.352436: I tensorflow/stream_executor/platform/default/dso_loader.cc:49] Successfully opened dynamic library libcudart.so.11.0\n"
     ]
    }
   ],
   "source": [
    "# https://medium.com/@niveditha.itengineer/learn-how-to-setup-portaudio-and-pyaudio-in-ubuntu-to-play-with-speech-recognition-8d2fff660e94\n",
    "\n",
    "import sounddevice as sd\n",
    "import numpy as np\n",
    "import scipy.signal\n",
    "from scipy.special import softmax\n",
    "import timeit\n",
    "import python_speech_features\n",
    "import os\n",
    "import json\n",
    "#import RPi.GPIO as GPIO\n",
    "from kws_streaming.data import input_data\n",
    "from kws_streaming import data\n",
    "from datetime import datetime\n",
    "\n",
    "\n",
    "#from tflite_runtime.interpreter import Interpreter\n",
    "import tensorflow as tf\n"
   ]
  },
  {
   "cell_type": "code",
   "execution_count": 2,
   "metadata": {},
   "outputs": [
    {
     "data": {
      "text/plain": [
       "'/mnt/disk0shared/bdjola/Documents/Technique/DevML/kws_streaming2/kws_streaming'"
      ]
     },
     "execution_count": 2,
     "metadata": {},
     "output_type": "execute_result"
    }
   ],
   "source": [
    "# Parameters\n",
    "#debug_time = 1\n",
    "#debug_acc = 0\n",
    "#led_pin = 8\n",
    "word_threshold = 0.9\n",
    "\n",
    "sample_rate = 16000\n",
    "\n",
    "num_channels = 1\n",
    "model_path = 'models3_30k/svdf/tflite_stream_state_external/stream_state_external.tflite'\n",
    "\n",
    "\n",
    "# GPIO \n",
    "#GPIO.setwarnings(False)\n",
    "#GPIO.setmode(GPIO.BOARD)\n",
    "#GPIO.setup(8, GPIO.OUT, initial=GPIO.LOW)\n",
    "\n",
    "current_dir = os.getcwd()\n",
    "DATA_PATH = os.path.join(current_dir, \"data2/\")\n",
    "MODELS_PATH = current_dir\n",
    "\n",
    "file_name='models3_30k'\n",
    "train_dir = os.path.join(MODELS_PATH, file_name, 'svdf')\n",
    "\n",
    "current_dir"
   ]
  },
  {
   "cell_type": "code",
   "execution_count": 3,
   "metadata": {},
   "outputs": [],
   "source": [
    "# below is another way of reading flags - through json\n",
    "with tf.compat.v1.gfile.Open(os.path.join(train_dir, 'flags.json'), 'r') as fd:\n",
    "   flags_json = json.load(fd)\n",
    "\n",
    "class DictStruct(object):\n",
    "   def __init__(self, **entries):\n",
    "     self.__dict__.update(entries)\n",
    "\n",
    "flags = DictStruct(**flags_json)"
   ]
  },
  {
   "cell_type": "code",
   "execution_count": 4,
   "metadata": {},
   "outputs": [
    {
     "name": "stderr",
     "output_type": "stream",
     "text": [
      "2024-02-26 21:59:12.636033: I tensorflow/compiler/jit/xla_cpu_device.cc:41] Not creating XLA devices, tf_xla_enable_xla_devices not set\n",
      "2024-02-26 21:59:12.636921: I tensorflow/stream_executor/platform/default/dso_loader.cc:49] Successfully opened dynamic library libcuda.so.1\n",
      "2024-02-26 21:59:12.647387: I tensorflow/stream_executor/cuda/cuda_gpu_executor.cc:941] successful NUMA node read from SysFS had negative value (-1), but there must be at least one NUMA node, so returning NUMA node zero\n",
      "2024-02-26 21:59:12.647490: I tensorflow/core/common_runtime/gpu/gpu_device.cc:1720] Found device 0 with properties: \n",
      "pciBusID: 0000:01:00.0 name: NVIDIA GeForce RTX 4090 computeCapability: 8.9\n",
      "coreClock: 2.52GHz coreCount: 128 deviceMemorySize: 23.64GiB deviceMemoryBandwidth: 938.86GiB/s\n",
      "2024-02-26 21:59:12.647502: I tensorflow/stream_executor/platform/default/dso_loader.cc:49] Successfully opened dynamic library libcudart.so.11.0\n",
      "2024-02-26 21:59:12.649296: I tensorflow/stream_executor/platform/default/dso_loader.cc:49] Successfully opened dynamic library libcublas.so.11\n",
      "2024-02-26 21:59:12.649321: I tensorflow/stream_executor/platform/default/dso_loader.cc:49] Successfully opened dynamic library libcublasLt.so.11\n",
      "2024-02-26 21:59:12.649937: I tensorflow/stream_executor/platform/default/dso_loader.cc:49] Successfully opened dynamic library libcufft.so.10\n",
      "2024-02-26 21:59:12.650124: I tensorflow/stream_executor/platform/default/dso_loader.cc:49] Successfully opened dynamic library libcurand.so.10\n",
      "2024-02-26 21:59:12.650398: W tensorflow/stream_executor/platform/default/dso_loader.cc:60] Could not load dynamic library 'libcusolver.so.10'; dlerror: libcusolver.so.10: cannot open shared object file: No such file or directory; LD_LIBRARY_PATH: /usr/local/cuda/lib64:/usr/local/cuda-11.2/lib64:\n",
      "2024-02-26 21:59:12.650799: I tensorflow/stream_executor/platform/default/dso_loader.cc:49] Successfully opened dynamic library libcusparse.so.11\n",
      "2024-02-26 21:59:12.650926: I tensorflow/stream_executor/platform/default/dso_loader.cc:49] Successfully opened dynamic library libcudnn.so.8\n",
      "2024-02-26 21:59:12.650932: W tensorflow/core/common_runtime/gpu/gpu_device.cc:1757] Cannot dlopen some GPU libraries. Please make sure the missing libraries mentioned above are installed properly if you would like to use GPU. Follow the guide at https://www.tensorflow.org/install/gpu for how to download and setup the required libraries for your platform.\n",
      "Skipping registering GPU devices...\n",
      "2024-02-26 21:59:12.651237: I tensorflow/core/platform/cpu_feature_guard.cc:142] This TensorFlow binary is optimized with oneAPI Deep Neural Network Library (oneDNN) to use the following CPU instructions in performance-critical operations:  AVX512F\n",
      "To enable them in other operations, rebuild TensorFlow with the appropriate compiler flags.\n",
      "2024-02-26 21:59:12.651801: I tensorflow/compiler/jit/xla_gpu_device.cc:99] Not creating XLA devices, tf_xla_enable_xla_devices not set\n",
      "2024-02-26 21:59:12.651812: I tensorflow/core/common_runtime/gpu/gpu_device.cc:1261] Device interconnect StreamExecutor with strength 1 edge matrix:\n",
      "2024-02-26 21:59:12.651815: I tensorflow/core/common_runtime/gpu/gpu_device.cc:1267]      \n",
      "2024-02-26 21:59:12.654100: I tensorflow/compiler/mlir/mlir_graph_optimization_pass.cc:196] None of the MLIR optimization passes are enabled (registered 0 passes)\n",
      "2024-02-26 21:59:12.654446: I tensorflow/core/platform/profile_utils/cpu_utils.cc:112] CPU Frequency: 4691305000 Hz\n"
     ]
    },
    {
     "data": {
      "text/plain": [
       "{11: 'forward',\n",
       " 16: 'learn',\n",
       " 10: 'follow',\n",
       " 2: 'backward',\n",
       " 6: 'dog',\n",
       " 3: 'bed',\n",
       " 5: 'cat',\n",
       " 14: 'happy',\n",
       " 4: 'bird',\n",
       " 18: 'marvin',\n",
       " 15: 'house',\n",
       " 33: 'visual',\n",
       " 30: 'tree',\n",
       " 12: 'four',\n",
       " 21: 'off',\n",
       " 24: 'right',\n",
       " 8: 'eight',\n",
       " 17: 'left',\n",
       " 22: 'on',\n",
       " 27: 'six',\n",
       " 13: 'go',\n",
       " 23: 'one',\n",
       " 7: 'down',\n",
       " 19: 'nine',\n",
       " 20: 'no',\n",
       " 9: 'five',\n",
       " 26: 'sheila',\n",
       " 34: 'wow',\n",
       " 32: 'up',\n",
       " 25: 'seven',\n",
       " 29: 'three',\n",
       " 31: 'two',\n",
       " 28: 'stop',\n",
       " 36: 'zero',\n",
       " 35: 'yes',\n",
       " 0: '_silence_'}"
      ]
     },
     "execution_count": 4,
     "metadata": {},
     "output_type": "execute_result"
    }
   ],
   "source": [
    "# prepare mapping of index to word\n",
    "audio_processor = data.input_data.AudioProcessor(flags)\n",
    "index_to_label = {}\n",
    "# labels used for training\n",
    "for word in audio_processor.word_to_index.keys():\n",
    "  if audio_processor.word_to_index[word] == data.input_data.SILENCE_INDEX:\n",
    "    index_to_label[audio_processor.word_to_index[word]] = data.input_data.SILENCE_LABEL\n",
    "  elif audio_processor.word_to_index[word] == data.input_data.UNKNOWN_WORD_INDEX:\n",
    "    index_to_label[audio_processor.word_to_index[word]] = data.input_data.UNKNOWN_WORD_LABEL\n",
    "  else:\n",
    "    index_to_label[audio_processor.word_to_index[word]] = word\n",
    "\n",
    "# training labels\n",
    "index_to_label"
   ]
  },
  {
   "cell_type": "code",
   "execution_count": 5,
   "metadata": {},
   "outputs": [
    {
     "name": "stdout",
     "output_type": "stream",
     "text": [
      "[{'name': 'input_audio', 'index': 0, 'shape': array([  1, 320], dtype=int32), 'shape_signature': array([  1, 320], dtype=int32), 'dtype': <class 'numpy.float32'>, 'quantization': (0.0, 0), 'quantization_parameters': {'scales': array([], dtype=float32), 'zero_points': array([], dtype=int32), 'quantized_dimension': 0}, 'sparsity_parameters': {}}, {'name': 'streaming/speech_features/data_frame_1input_state', 'index': 1, 'shape': array([  1, 640], dtype=int32), 'shape_signature': array([  1, 640], dtype=int32), 'dtype': <class 'numpy.float32'>, 'quantization': (0.0, 0), 'quantization_parameters': {'scales': array([], dtype=float32), 'zero_points': array([], dtype=int32), 'quantized_dimension': 0}, 'sparsity_parameters': {}}, {'name': 'streaming/svdf_0/depthwise_conv1d_6/depthwise_conv1d_6input_state', 'index': 2, 'shape': array([ 1,  4, 16], dtype=int32), 'shape_signature': array([ 1,  4, 16], dtype=int32), 'dtype': <class 'numpy.float32'>, 'quantization': (0.0, 0), 'quantization_parameters': {'scales': array([], dtype=float32), 'zero_points': array([], dtype=int32), 'quantized_dimension': 0}, 'sparsity_parameters': {}}, {'name': 'streaming/svdf_1/depthwise_conv1d_7/depthwise_conv1d_7input_state', 'index': 3, 'shape': array([ 1, 10, 32], dtype=int32), 'shape_signature': array([ 1, 10, 32], dtype=int32), 'dtype': <class 'numpy.float32'>, 'quantization': (0.0, 0), 'quantization_parameters': {'scales': array([], dtype=float32), 'zero_points': array([], dtype=int32), 'quantized_dimension': 0}, 'sparsity_parameters': {}}, {'name': 'streaming/svdf_2/depthwise_conv1d_8/depthwise_conv1d_8input_state', 'index': 4, 'shape': array([ 1, 10, 32], dtype=int32), 'shape_signature': array([ 1, 10, 32], dtype=int32), 'dtype': <class 'numpy.float32'>, 'quantization': (0.0, 0), 'quantization_parameters': {'scales': array([], dtype=float32), 'zero_points': array([], dtype=int32), 'quantized_dimension': 0}, 'sparsity_parameters': {}}, {'name': 'streaming/svdf_3/depthwise_conv1d_9/depthwise_conv1d_9input_state', 'index': 5, 'shape': array([ 1, 10, 32], dtype=int32), 'shape_signature': array([ 1, 10, 32], dtype=int32), 'dtype': <class 'numpy.float32'>, 'quantization': (0.0, 0), 'quantization_parameters': {'scales': array([], dtype=float32), 'zero_points': array([], dtype=int32), 'quantized_dimension': 0}, 'sparsity_parameters': {}}, {'name': 'streaming/svdf_4/depthwise_conv1d_10/depthwise_conv1d_10input_state', 'index': 6, 'shape': array([ 1, 10, 64], dtype=int32), 'shape_signature': array([ 1, 10, 64], dtype=int32), 'dtype': <class 'numpy.float32'>, 'quantization': (0.0, 0), 'quantization_parameters': {'scales': array([], dtype=float32), 'zero_points': array([], dtype=int32), 'quantized_dimension': 0}, 'sparsity_parameters': {}}, {'name': 'streaming/svdf_5/depthwise_conv1d_11/depthwise_conv1d_11input_state', 'index': 7, 'shape': array([  1,  10, 128], dtype=int32), 'shape_signature': array([  1,  10, 128], dtype=int32), 'dtype': <class 'numpy.float32'>, 'quantization': (0.0, 0), 'quantization_parameters': {'scales': array([], dtype=float32), 'zero_points': array([], dtype=int32), 'quantized_dimension': 0}, 'sparsity_parameters': {}}, {'name': 'streaming/stream/stream/input_state', 'index': 8, 'shape': array([  1,   1, 128], dtype=int32), 'shape_signature': array([  1,   1, 128], dtype=int32), 'dtype': <class 'numpy.float32'>, 'quantization': (0.0, 0), 'quantization_parameters': {'scales': array([], dtype=float32), 'zero_points': array([], dtype=int32), 'quantized_dimension': 0}, 'sparsity_parameters': {}}]\n"
     ]
    }
   ],
   "source": [
    "# Load model (interpreter)\n",
    "#interpreter = Interpreter(model_path)\n",
    "interpreter = tf.lite.Interpreter(model_path)\n",
    "interpreter.allocate_tensors()\n",
    "input_details = interpreter.get_input_details()\n",
    "output_details = interpreter.get_output_details()\n",
    "print(input_details)"
   ]
  },
  {
   "cell_type": "code",
   "execution_count": 6,
   "metadata": {},
   "outputs": [
    {
     "data": {
      "text/plain": [
       "array([  1, 320], dtype=int32)"
      ]
     },
     "execution_count": 6,
     "metadata": {},
     "output_type": "execute_result"
    }
   ],
   "source": [
    "inputs = []\n",
    "for s in range(len(input_details)):\n",
    "  inputs.append(np.zeros(input_details[s]['shape'], dtype=np.float32))\n",
    "\n",
    "input_details[0]['shape']"
   ]
  },
  {
   "cell_type": "code",
   "execution_count": 7,
   "metadata": {},
   "outputs": [],
   "source": [
    "# Decimate (filter and downsample)\n",
    "def decimate(signal, old_fs, new_fs):\n",
    "    \n",
    "    # Check to make sure we're downsampling\n",
    "    if new_fs > old_fs:\n",
    "        print(\"Error: target sample rate higher than original\")\n",
    "        return signal, old_fs\n",
    "    \n",
    "    # We can only downsample by an integer factor\n",
    "    dec_factor = old_fs / new_fs\n",
    "    if not dec_factor.is_integer():\n",
    "        print(\"Error: can only decimate by integer factor\")\n",
    "        return signal, old_fs\n",
    "\n",
    "    # Do decimation\n",
    "    resampled_signal = scipy.signal.decimate(signal, int(dec_factor))\n",
    "\n",
    "    return resampled_signal, new_fs"
   ]
  },
  {
   "cell_type": "code",
   "execution_count": 8,
   "metadata": {},
   "outputs": [],
   "source": [
    "import time as timelib\n",
    "\n",
    "\n",
    "\n",
    "def sd_callback(rec, frames, time, status):   \n",
    "    \n",
    "    #global sumseconds, sumrecords\n",
    "    global index, times, MAX_RECORDS, predict, probat\n",
    "\n",
    "    if index<MAX_RECORDS-1:\n",
    "        index = index+1\n",
    "\n",
    "        #tstart = timelib.time()\n",
    "        times[0, index] = timelib.time()\n",
    "\n",
    "    # audio rec shape is : (frames, channels)\n",
    "    rec = np.reshape(rec, (1,-1))\n",
    "\n",
    "    # set input audio data (by default input data at index 0)\n",
    "    interpreter.set_tensor(input_details[0]['index'], rec)\n",
    "\n",
    "    # set input states (index 1...)\n",
    "    for s in range(1, len(input_details)):\n",
    "        interpreter.set_tensor(input_details[s]['index'], inputs[s])\n",
    "\n",
    "    # run inference\n",
    "    interpreter.invoke()\n",
    "\n",
    "    # get output: classification\n",
    "    out_tflite = interpreter.get_tensor(output_details[0]['index'])\n",
    "    #print(start / 16000.0, np.argmax(out_tflite), np.max(out_tflite))\n",
    "\n",
    "    # get output states and set it back to input states\n",
    "    # which will be fed in the next inference cycle\n",
    "    for s in range(1, len(input_details)):\n",
    "    # The function `get_tensor()` returns a copy of the tensor data.\n",
    "    # Use `tensor()` in order to get a pointer to the tensor.\n",
    "        inputs[s] = interpreter.get_tensor(output_details[s]['index'])\n",
    "\n",
    "    out_tflite_argmax = np.argmax(out_tflite)\n",
    "\n",
    "    probas = softmax(out_tflite)\n",
    "    proba = np.max(probas)\n",
    "    if (out_tflite_argmax>1) and (proba > word_threshold):\n",
    "        print(datetime.now().strftime(\"%d/%m/%Y %H:%M:%S\"), index_to_label[out_tflite_argmax], proba)\n",
    "\n",
    "    if index<MAX_RECORDS:\n",
    "        times[1, index] = timelib.time()\n",
    "        predict[index] = out_tflite_argmax\n",
    "        probat[index] = proba\n",
    "\n",
    "    \n"
   ]
  },
  {
   "cell_type": "code",
   "execution_count": 9,
   "metadata": {},
   "outputs": [
    {
     "name": "stdout",
     "output_type": "stream",
     "text": [
      "[  1 320]\n",
      "[  1 640]\n",
      "[ 1  4 16]\n",
      "[ 1 10 32]\n",
      "[ 1 10 32]\n",
      "[ 1 10 32]\n",
      "[ 1 10 64]\n",
      "[  1  10 128]\n",
      "[  1   1 128]\n"
     ]
    }
   ],
   "source": [
    "reset_state = True\n",
    "\n",
    "\n",
    "# before processing new test sequence we can reset model state\n",
    "# if we reset model state then it is not real streaming mode\n",
    "if reset_state:\n",
    "  for s in range(len(input_details)):\n",
    "    print(input_details[s]['shape'])\n",
    "    inputs[s] = np.zeros(input_details[s]['shape'], dtype=np.float32)"
   ]
  },
  {
   "cell_type": "code",
   "execution_count": 10,
   "metadata": {},
   "outputs": [
    {
     "name": "stdout",
     "output_type": "stream",
     "text": [
      "channels: 1 samplerate: 16000 blocksize: 320\n",
      "26/02/2024 21:59:15 one 0.9392666\n",
      "26/02/2024 21:59:16 one 0.95790064\n",
      "26/02/2024 21:59:16 one 0.9584567\n",
      "26/02/2024 21:59:16 one 0.96685505\n",
      "26/02/2024 21:59:16 one 0.9606219\n",
      "26/02/2024 21:59:16 one 0.9487183\n",
      "26/02/2024 21:59:16 one 0.95745033\n",
      "26/02/2024 21:59:16 one 0.95304173\n",
      "26/02/2024 21:59:16 one 0.94333315\n",
      "26/02/2024 21:59:16 one 0.9484628\n",
      "26/02/2024 21:59:16 one 0.94925636\n",
      "26/02/2024 21:59:16 one 0.95708066\n",
      "26/02/2024 21:59:16 one 0.95419073\n",
      "26/02/2024 21:59:16 one 0.93374175\n",
      "26/02/2024 21:59:16 one 0.903112\n",
      "26/02/2024 21:59:16 one 0.90049404\n",
      "26/02/2024 21:59:16 one 0.90863067\n",
      "26/02/2024 21:59:19 house 0.95461076\n",
      "26/02/2024 21:59:19 house 0.9132244\n",
      "26/02/2024 21:59:19 house 0.97497\n",
      "26/02/2024 21:59:19 house 0.98229533\n",
      "26/02/2024 21:59:19 house 0.9839098\n",
      "26/02/2024 21:59:19 house 0.9864738\n",
      "26/02/2024 21:59:19 house 0.98490494\n",
      "26/02/2024 21:59:19 house 0.97457206\n",
      "26/02/2024 21:59:19 house 0.9810314\n",
      "26/02/2024 21:59:19 house 0.9776366\n",
      "26/02/2024 21:59:19 house 0.9466686\n",
      "26/02/2024 21:59:20 house 0.9240201\n",
      "26/02/2024 21:59:20 house 0.91375846\n",
      "26/02/2024 21:59:20 house 0.9363835\n",
      "26/02/2024 21:59:20 house 0.9096984\n",
      "26/02/2024 21:59:20 house 0.92656416\n",
      "26/02/2024 21:59:20 house 0.90695715\n",
      "26/02/2024 21:59:24 cat 0.91208345\n",
      "26/02/2024 21:59:24 cat 0.9340963\n",
      "26/02/2024 21:59:24 cat 0.90535194\n",
      "26/02/2024 21:59:26 six 0.93014973\n",
      "26/02/2024 21:59:26 six 0.9554437\n",
      "26/02/2024 21:59:26 six 0.9884213\n",
      "26/02/2024 21:59:26 six 0.97270846\n",
      "26/02/2024 21:59:26 six 0.970543\n",
      "26/02/2024 21:59:26 six 0.9326124\n",
      "26/02/2024 21:59:27 six 0.9173095\n",
      "26/02/2024 21:59:27 six 0.915022\n",
      "26/02/2024 21:59:27 six 0.9203435\n",
      "26/02/2024 21:59:27 six 0.9079086\n",
      "26/02/2024 21:59:28 down 0.9062853\n",
      "26/02/2024 21:59:28 down 0.93885106\n",
      "26/02/2024 21:59:29 down 0.9517678\n",
      "26/02/2024 21:59:29 down 0.93566096\n",
      "26/02/2024 21:59:29 down 0.9179925\n",
      "26/02/2024 21:59:32 up 0.903047\n",
      "26/02/2024 21:59:37 two 0.90489614\n",
      "26/02/2024 21:59:37 two 0.9065261\n",
      "26/02/2024 21:59:37 two 0.929101\n",
      "26/02/2024 21:59:38 two 0.934556\n"
     ]
    },
    {
     "data": {
      "image/png": "[encoded data removed]",
      "text/plain": [
       "<Figure size 640x480 with 1 Axes>"
      ]
     },
     "metadata": {},
     "output_type": "display_data"
    },
    {
     "name": "stdout",
     "output_type": "stream",
     "text": [
      "\n",
      "Recording finished. Nb records: 1402 std deviation: 0.0012254224901544254 average: 0.00541941381555141 CPU AMD Ryzen 9 7900X 12-Core Processor\n"
     ]
    }
   ],
   "source": [
    "# Start streaming from microphone\n",
    "import matplotlib.pyplot as plt\n",
    "import cpuinfo\n",
    "\n",
    "\n",
    "sumseconds=0\n",
    "sumrecords=0\n",
    "MAX_RECORDS = 5000\n",
    "index=-1\n",
    "times = np.empty([2, MAX_RECORDS], dtype = float)\n",
    "predict = np.empty([ MAX_RECORDS], dtype = int)\n",
    "probat = np.empty([ MAX_RECORDS], dtype = float)\n",
    "\n",
    "try:\n",
    "    sumrecords=0\n",
    "    print('channels:',num_channels, 'samplerate:',sample_rate, 'blocksize:', flags.window_stride_samples)\n",
    "    with sd.InputStream(channels=num_channels,\n",
    "                        samplerate=sample_rate,\n",
    "                        blocksize=flags.window_stride_samples,\n",
    "                        callback=sd_callback):\n",
    "        while True:\n",
    "            pass\n",
    "\n",
    "except KeyboardInterrupt:\n",
    "    times[0,:] = times[0,:] * -1\n",
    "    delays = np.sum(times[:,0:index], axis=0)\n",
    "\n",
    "\n",
    "    weights = np.ones_like(delays)/float(index)\n",
    "\n",
    "    my_cpuinfo = cpuinfo.get_cpu_info()\n",
    "\n",
    "    x, bins, p = plt.hist(delays, bins = 30, weights=weights)\n",
    "    plt.ylabel('Probability')\n",
    "    plt.xlabel('Delay(s)')\n",
    "    plt.title(f\"SVDF Model delay \\nOne core of {my_cpuinfo['brand_raw']}\")\n",
    "    plt.show() \n",
    "    \n",
    "    print('\\nRecording finished. Nb records:', index, 'std deviation:', np.std(delays, axis=0), 'average:', np.mean(delays, axis=0), 'CPU', my_cpuinfo['brand_raw'])\n",
    "   \n",
    "\n",
    "\n",
    "except Exception as e:\n",
    "    print('\\nRecording finished. ')"
   ]
  }
 ],
 "metadata": {
  "kernelspec": {
   "display_name": ".venv",
   "language": "python",
   "name": "python3"
  },
  "language_info": {
   "codemirror_mode": {
    "name": "ipython",
    "version": 3
   },
   "file_extension": ".py",
   "mimetype": "text/x-python",
   "name": "python",
   "nbconvert_exporter": "python",
   "pygments_lexer": "ipython3",
   "version": "3.7.17"
  }
 },
 "nbformat": 4,
 "nbformat_minor": 2
}
